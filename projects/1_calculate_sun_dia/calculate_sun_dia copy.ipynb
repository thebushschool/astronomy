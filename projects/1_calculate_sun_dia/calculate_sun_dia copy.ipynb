{
 "cells": [
  {
   "cell_type": "markdown",
   "id": "d3f8148e-eb24-4b31-b6a3-d59d3b5e53ad",
   "metadata": {},
   "source": [
    "_bushced astronomy_"
   ]
  },
  {
   "cell_type": "markdown",
   "id": "03644229-c4ce-4e0f-b26e-89bdbf727184",
   "metadata": {
    "id": "03644229-c4ce-4e0f-b26e-89bdbf727184"
   },
   "source": [
    "# Calculate Diameter of Sun!"
   ]
  },
  {
   "cell_type": "code",
   "execution_count": null,
   "id": "d3451c9b-e644-4908-86bd-8e42e03c7241",
   "metadata": {
    "id": "d3451c9b-e644-4908-86bd-8e42e03c7241"
   },
   "outputs": [],
   "source": [
    "import math"
   ]
  },
  {
   "cell_type": "markdown",
   "id": "7e355268-89d8-424e-acaa-1e8e1b1cb09e",
   "metadata": {},
   "source": [
    "### add the syntax for embedding image calculate_sun_dia.png here"
   ]
  },
  {
   "cell_type": "markdown",
   "id": "3490d2f3-85e7-408d-acf6-87f4e8e475ec",
   "metadata": {},
   "source": [
    "### add the syntax for embedding image measure_transit.png here"
   ]
  },
  {
   "cell_type": "markdown",
   "id": "343ecde5-8c39-4969-b4f2-5aee2f08382e",
   "metadata": {},
   "source": [
    "### add the syntax for embedding image perp_bisectors.png here"
   ]
  },
  {
   "cell_type": "markdown",
   "id": "ad605574-82db-43fd-bd4b-2864abf5b81b",
   "metadata": {
    "tags": []
   },
   "source": [
    "### add the syntax for embedding your own image from the experiment here"
   ]
  },
  {
   "cell_type": "code",
   "execution_count": null,
   "id": "7e02ecf5-5bf3-4604-bd3b-1889fb922b31",
   "metadata": {
    "colab": {
     "base_uri": "https://localhost:8080/"
    },
    "id": "7e02ecf5-5bf3-4604-bd3b-1889fb922b31",
    "outputId": "d553030f-f7af-4bde-d657-b38b8a225992"
   },
   "outputs": [],
   "source": [
    "#Average Time Sun takes to move by 1 diameter\n",
    "traverse_time = 30 #seconds FIX THIS TO YOUR MEASURED VALUE!!!\n",
    "print(traverse_time)"
   ]
  },
  {
   "cell_type": "code",
   "execution_count": null,
   "id": "OvT3Ldr3p2d3",
   "metadata": {
    "id": "OvT3Ldr3p2d3"
   },
   "outputs": [],
   "source": [
    "# Actual mean diameter of the Sun\n",
    "actual_dia_sun = 1.392e6 #KM"
   ]
  },
  {
   "cell_type": "code",
   "execution_count": null,
   "id": "588c2199-b0d2-406c-b618-63aadefc2485",
   "metadata": {
    "colab": {
     "base_uri": "https://localhost:8080/"
    },
    "id": "588c2199-b0d2-406c-b618-63aadefc2485",
    "outputId": "f9e59fcd-de7d-48a4-876f-c87e21609d55"
   },
   "outputs": [],
   "source": [
    "# No of seconds in a 24-hour day\n",
    "sec_in_a_day = 24 * 60 * 60  #seconds\n",
    "#print(sec_in_a_day, \"sec\")\n",
    "print(\"%1.3e seconds\" % (sec_in_a_day))"
   ]
  },
  {
   "cell_type": "markdown",
   "id": "beb493ce-d347-4fd6-8334-b052955f4a97",
   "metadata": {},
   "source": [
    "### add the syntax for embedding image calculate_angular_dia.png here"
   ]
  },
  {
   "cell_type": "code",
   "execution_count": null,
   "id": "620dc1f5-d58a-49b5-b5cf-bde505646c99",
   "metadata": {
    "colab": {
     "base_uri": "https://localhost:8080/"
    },
    "id": "620dc1f5-d58a-49b5-b5cf-bde505646c99",
    "outputId": "c5100972-7342-4c85-e868-91ac2b1f5509"
   },
   "outputs": [],
   "source": [
    "# Angular Size of the Sun from Earth in deg\n",
    "#  = Angular Distance traveled by the sun in one second * traverse_time\n",
    "angle_traversed_in_one_sec = 360 / sec_in_a_day\n",
    "angular_size_deg = angle_traversed_in_one_sec * traverse_time\n",
    "#print(angular_size_deg, \"Deg\")\n",
    "print(\"%1.3e deg\" % (angular_size_deg))"
   ]
  },
  {
   "cell_type": "code",
   "execution_count": null,
   "id": "ecb6b4c4-9534-4fbb-b7b8-bd2a67f64d6f",
   "metadata": {
    "colab": {
     "base_uri": "https://localhost:8080/"
    },
    "id": "ecb6b4c4-9534-4fbb-b7b8-bd2a67f64d6f",
    "outputId": "7e1dac46-57d0-4673-ca42-5f376e72051b"
   },
   "outputs": [],
   "source": [
    "# Angular Size of Sun from Earth in Radians\n",
    "angular_size_rad = angular_size_deg * math.pi / 180\n",
    "#print(angular_size_rad, \"Radians\")\n",
    "print(\"%1.3e Radians\" % (angular_size_rad))"
   ]
  },
  {
   "cell_type": "code",
   "execution_count": null,
   "id": "bcf4b753-e6a8-4905-b2eb-336c4daac429",
   "metadata": {
    "id": "bcf4b753-e6a8-4905-b2eb-336c4daac429"
   },
   "outputs": [],
   "source": [
    "# Distance of Sun from Earth\n",
    "sun_distance_from_earth = 150e6 # KM"
   ]
  },
  {
   "cell_type": "code",
   "execution_count": null,
   "id": "59354b2a-5565-4109-903d-6e10d91806f3",
   "metadata": {
    "colab": {
     "base_uri": "https://localhost:8080/"
    },
    "id": "59354b2a-5565-4109-903d-6e10d91806f3",
    "outputId": "0fa7468e-424d-46df-d8d9-0ad1a8abc23f"
   },
   "outputs": [],
   "source": [
    "# Diameter of Sun Calculation\n",
    "# For very Small angles the subtended arc of circle\n",
    "# is equal to side of angle * angle in radians\n",
    "\n",
    "diameter_of_sun = angular_size_rad * sun_distance_from_earth\n",
    "#print(diameter_of_sun, \"KM\")\n",
    "print(\"%1.3e KM\" % (diameter_of_sun))"
   ]
  },
  {
   "cell_type": "code",
   "execution_count": null,
   "id": "aAt-Ys0oqd2J",
   "metadata": {
    "colab": {
     "base_uri": "https://localhost:8080/",
     "height": 201
    },
    "id": "aAt-Ys0oqd2J",
    "outputId": "3007a597-312b-495c-865e-d61e59c6baa9"
   },
   "outputs": [],
   "source": [
    "percent_error = (actual_dia_sun - diameter_of_sun)/actual_dia_sun\n",
    "#print(percent_error*100)\n",
    "print(\"%1.3f\" % (percent_error*100) + \"% error in measurement\")"
   ]
  },
  {
   "cell_type": "markdown",
   "id": "fc26d75e-ca88-42f1-91ff-3288d85e10f3",
   "metadata": {
    "id": "fc26d75e-ca88-42f1-91ff-3288d85e10f3"
   },
   "source": [
    "### 76% error ?? - that's terrible ...\n"
   ]
  }
 ],
 "metadata": {
  "colab": {
   "collapsed_sections": [],
   "provenance": []
  },
  "kernelspec": {
   "display_name": "Python 3 (ipykernel)",
   "language": "python",
   "name": "python3"
  },
  "language_info": {
   "codemirror_mode": {
    "name": "ipython",
    "version": 3
   },
   "file_extension": ".py",
   "mimetype": "text/x-python",
   "name": "python",
   "nbconvert_exporter": "python",
   "pygments_lexer": "ipython3",
   "version": "3.9.12"
  }
 },
 "nbformat": 4,
 "nbformat_minor": 5
}
